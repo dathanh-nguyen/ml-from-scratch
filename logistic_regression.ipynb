{
 "cells": [
  {
   "cell_type": "code",
   "execution_count": 2,
   "metadata": {},
   "outputs": [],
   "source": [
    "import numpy as np\n",
    "import seaborn as sns\n",
    "import statsmodels.api as sm"
   ]
  },
  {
   "cell_type": "markdown",
   "metadata": {},
   "source": [
    "In this notebook, I will be implementing a Logistic Regression from scratch, just using numpy and the math behind a logistic regression. I will be using the sample Titanic dataset from seaborn and comparing it to the logistic regression model from `statsmodels` to see whether my algorithm works correctly. "
   ]
  },
  {
   "cell_type": "markdown",
   "metadata": {},
   "source": [
    "# Data Preparation"
   ]
  },
  {
   "cell_type": "code",
   "execution_count": 3,
   "metadata": {},
   "outputs": [
    {
     "data": {
      "text/html": [
       "<div>\n",
       "<style scoped>\n",
       "    .dataframe tbody tr th:only-of-type {\n",
       "        vertical-align: middle;\n",
       "    }\n",
       "\n",
       "    .dataframe tbody tr th {\n",
       "        vertical-align: top;\n",
       "    }\n",
       "\n",
       "    .dataframe thead th {\n",
       "        text-align: right;\n",
       "    }\n",
       "</style>\n",
       "<table border=\"1\" class=\"dataframe\">\n",
       "  <thead>\n",
       "    <tr style=\"text-align: right;\">\n",
       "      <th></th>\n",
       "      <th>survived</th>\n",
       "      <th>pclass</th>\n",
       "      <th>sex</th>\n",
       "      <th>age</th>\n",
       "      <th>sibsp</th>\n",
       "      <th>parch</th>\n",
       "      <th>fare</th>\n",
       "      <th>embarked</th>\n",
       "      <th>class</th>\n",
       "      <th>who</th>\n",
       "      <th>adult_male</th>\n",
       "      <th>deck</th>\n",
       "      <th>embark_town</th>\n",
       "      <th>alive</th>\n",
       "      <th>alone</th>\n",
       "    </tr>\n",
       "  </thead>\n",
       "  <tbody>\n",
       "    <tr>\n",
       "      <th>0</th>\n",
       "      <td>0</td>\n",
       "      <td>3</td>\n",
       "      <td>male</td>\n",
       "      <td>22.0</td>\n",
       "      <td>1</td>\n",
       "      <td>0</td>\n",
       "      <td>7.2500</td>\n",
       "      <td>S</td>\n",
       "      <td>Third</td>\n",
       "      <td>man</td>\n",
       "      <td>True</td>\n",
       "      <td>NaN</td>\n",
       "      <td>Southampton</td>\n",
       "      <td>no</td>\n",
       "      <td>False</td>\n",
       "    </tr>\n",
       "    <tr>\n",
       "      <th>1</th>\n",
       "      <td>1</td>\n",
       "      <td>1</td>\n",
       "      <td>female</td>\n",
       "      <td>38.0</td>\n",
       "      <td>1</td>\n",
       "      <td>0</td>\n",
       "      <td>71.2833</td>\n",
       "      <td>C</td>\n",
       "      <td>First</td>\n",
       "      <td>woman</td>\n",
       "      <td>False</td>\n",
       "      <td>C</td>\n",
       "      <td>Cherbourg</td>\n",
       "      <td>yes</td>\n",
       "      <td>False</td>\n",
       "    </tr>\n",
       "    <tr>\n",
       "      <th>2</th>\n",
       "      <td>1</td>\n",
       "      <td>3</td>\n",
       "      <td>female</td>\n",
       "      <td>26.0</td>\n",
       "      <td>0</td>\n",
       "      <td>0</td>\n",
       "      <td>7.9250</td>\n",
       "      <td>S</td>\n",
       "      <td>Third</td>\n",
       "      <td>woman</td>\n",
       "      <td>False</td>\n",
       "      <td>NaN</td>\n",
       "      <td>Southampton</td>\n",
       "      <td>yes</td>\n",
       "      <td>True</td>\n",
       "    </tr>\n",
       "    <tr>\n",
       "      <th>3</th>\n",
       "      <td>1</td>\n",
       "      <td>1</td>\n",
       "      <td>female</td>\n",
       "      <td>35.0</td>\n",
       "      <td>1</td>\n",
       "      <td>0</td>\n",
       "      <td>53.1000</td>\n",
       "      <td>S</td>\n",
       "      <td>First</td>\n",
       "      <td>woman</td>\n",
       "      <td>False</td>\n",
       "      <td>C</td>\n",
       "      <td>Southampton</td>\n",
       "      <td>yes</td>\n",
       "      <td>False</td>\n",
       "    </tr>\n",
       "    <tr>\n",
       "      <th>4</th>\n",
       "      <td>0</td>\n",
       "      <td>3</td>\n",
       "      <td>male</td>\n",
       "      <td>35.0</td>\n",
       "      <td>0</td>\n",
       "      <td>0</td>\n",
       "      <td>8.0500</td>\n",
       "      <td>S</td>\n",
       "      <td>Third</td>\n",
       "      <td>man</td>\n",
       "      <td>True</td>\n",
       "      <td>NaN</td>\n",
       "      <td>Southampton</td>\n",
       "      <td>no</td>\n",
       "      <td>True</td>\n",
       "    </tr>\n",
       "  </tbody>\n",
       "</table>\n",
       "</div>"
      ],
      "text/plain": [
       "   survived  pclass     sex   age  sibsp  parch     fare embarked  class  \\\n",
       "0         0       3    male  22.0      1      0   7.2500        S  Third   \n",
       "1         1       1  female  38.0      1      0  71.2833        C  First   \n",
       "2         1       3  female  26.0      0      0   7.9250        S  Third   \n",
       "3         1       1  female  35.0      1      0  53.1000        S  First   \n",
       "4         0       3    male  35.0      0      0   8.0500        S  Third   \n",
       "\n",
       "     who  adult_male deck  embark_town alive  alone  \n",
       "0    man        True  NaN  Southampton    no  False  \n",
       "1  woman       False    C    Cherbourg   yes  False  \n",
       "2  woman       False  NaN  Southampton   yes   True  \n",
       "3  woman       False    C  Southampton   yes  False  \n",
       "4    man        True  NaN  Southampton    no   True  "
      ]
     },
     "execution_count": 3,
     "metadata": {},
     "output_type": "execute_result"
    }
   ],
   "source": [
    "# load the Titanic dataset\n",
    "titanic = sns.load_dataset('titanic')\n",
    "titanic.head()"
   ]
  },
  {
   "cell_type": "code",
   "execution_count": 4,
   "metadata": {},
   "outputs": [],
   "source": [
    "# for simplicity, we will use only a subset of the columns - pclass, age, fare, sibsp and parch\n",
    "X = np.array(titanic[['pclass', 'age', 'fare', 'sibsp', 'parch']].dropna())\n",
    "\n",
    "# standardize the data \n",
    "X_std = (X - np.mean(X, axis = 0))/np.std(X, axis = 0)\n",
    "\n",
    "# adding a bias term to the model (the statsmodels requires one)\n",
    "X_sm = sm.add_constant(X_std)"
   ]
  },
  {
   "cell_type": "code",
   "execution_count": 5,
   "metadata": {},
   "outputs": [],
   "source": [
    "# filtering the target variable based on our independent variables\n",
    "y = np.array(titanic['survived'][titanic[['pclass', 'age', 'fare', 'sibsp', 'parch']].dropna().index])"
   ]
  },
  {
   "cell_type": "code",
   "execution_count": 6,
   "metadata": {},
   "outputs": [
    {
     "data": {
      "text/plain": [
       "((714, 6), (714,))"
      ]
     },
     "execution_count": 6,
     "metadata": {},
     "output_type": "execute_result"
    }
   ],
   "source": [
    "# 891 observations, 6 features\n",
    "X_sm.shape, y.shape"
   ]
  },
  {
   "cell_type": "markdown",
   "metadata": {},
   "source": [
    "# Statsmodels Logistic Regression"
   ]
  },
  {
   "cell_type": "code",
   "execution_count": 10,
   "metadata": {},
   "outputs": [
    {
     "name": "stdout",
     "output_type": "stream",
     "text": [
      "Optimization terminated successfully.\n",
      "         Current function value: 0.570854\n",
      "         Iterations 6\n"
     ]
    }
   ],
   "source": [
    "# let's take a look at the results of our baseline model, which we want to roughly replicate\n",
    "model = sm.Logit(y, X_sm)\n",
    "result = model.fit()"
   ]
  },
  {
   "cell_type": "code",
   "execution_count": 11,
   "metadata": {},
   "outputs": [
    {
     "data": {
      "text/html": [
       "<table class=\"simpletable\">\n",
       "<caption>Logit Regression Results</caption>\n",
       "<tr>\n",
       "  <th>Dep. Variable:</th>           <td>y</td>        <th>  No. Observations:  </th>  <td>   714</td>  \n",
       "</tr>\n",
       "<tr>\n",
       "  <th>Model:</th>                 <td>Logit</td>      <th>  Df Residuals:      </th>  <td>   708</td>  \n",
       "</tr>\n",
       "<tr>\n",
       "  <th>Method:</th>                 <td>MLE</td>       <th>  Df Model:          </th>  <td>     5</td>  \n",
       "</tr>\n",
       "<tr>\n",
       "  <th>Date:</th>            <td>Sun, 02 Feb 2025</td> <th>  Pseudo R-squ.:     </th>  <td>0.1548</td>  \n",
       "</tr>\n",
       "<tr>\n",
       "  <th>Time:</th>                <td>14:58:14</td>     <th>  Log-Likelihood:    </th> <td> -407.59</td> \n",
       "</tr>\n",
       "<tr>\n",
       "  <th>converged:</th>             <td>True</td>       <th>  LL-Null:           </th> <td> -482.26</td> \n",
       "</tr>\n",
       "<tr>\n",
       "  <th>Covariance Type:</th>     <td>nonrobust</td>    <th>  LLR p-value:       </th> <td>1.848e-30</td>\n",
       "</tr>\n",
       "</table>\n",
       "<table class=\"simpletable\">\n",
       "<tr>\n",
       "    <td></td>       <th>coef</th>     <th>std err</th>      <th>z</th>      <th>P>|z|</th>  <th>[0.025</th>    <th>0.975]</th>  \n",
       "</tr>\n",
       "<tr>\n",
       "  <th>const</th> <td>   -0.4301</td> <td>    0.086</td> <td>   -5.004</td> <td> 0.000</td> <td>   -0.599</td> <td>   -0.262</td>\n",
       "</tr>\n",
       "<tr>\n",
       "  <th>x1</th>    <td>   -0.9658</td> <td>    0.122</td> <td>   -7.900</td> <td> 0.000</td> <td>   -1.205</td> <td>   -0.726</td>\n",
       "</tr>\n",
       "<tr>\n",
       "  <th>x2</th>    <td>   -0.6469</td> <td>    0.105</td> <td>   -6.181</td> <td> 0.000</td> <td>   -0.852</td> <td>   -0.442</td>\n",
       "</tr>\n",
       "<tr>\n",
       "  <th>x3</th>    <td>    0.1742</td> <td>    0.134</td> <td>    1.299</td> <td> 0.194</td> <td>   -0.089</td> <td>    0.437</td>\n",
       "</tr>\n",
       "<tr>\n",
       "  <th>x4</th>    <td>   -0.2716</td> <td>    0.099</td> <td>   -2.755</td> <td> 0.006</td> <td>   -0.465</td> <td>   -0.078</td>\n",
       "</tr>\n",
       "<tr>\n",
       "  <th>x5</th>    <td>    0.2114</td> <td>    0.093</td> <td>    2.273</td> <td> 0.023</td> <td>    0.029</td> <td>    0.394</td>\n",
       "</tr>\n",
       "</table>"
      ],
      "text/latex": [
       "\\begin{center}\n",
       "\\begin{tabular}{lclc}\n",
       "\\toprule\n",
       "\\textbf{Dep. Variable:}   &        y         & \\textbf{  No. Observations:  } &      714    \\\\\n",
       "\\textbf{Model:}           &      Logit       & \\textbf{  Df Residuals:      } &      708    \\\\\n",
       "\\textbf{Method:}          &       MLE        & \\textbf{  Df Model:          } &        5    \\\\\n",
       "\\textbf{Date:}            & Sun, 02 Feb 2025 & \\textbf{  Pseudo R-squ.:     } &   0.1548    \\\\\n",
       "\\textbf{Time:}            &     14:58:14     & \\textbf{  Log-Likelihood:    } &   -407.59   \\\\\n",
       "\\textbf{converged:}       &       True       & \\textbf{  LL-Null:           } &   -482.26   \\\\\n",
       "\\textbf{Covariance Type:} &    nonrobust     & \\textbf{  LLR p-value:       } & 1.848e-30   \\\\\n",
       "\\bottomrule\n",
       "\\end{tabular}\n",
       "\\begin{tabular}{lcccccc}\n",
       "               & \\textbf{coef} & \\textbf{std err} & \\textbf{z} & \\textbf{P$> |$z$|$} & \\textbf{[0.025} & \\textbf{0.975]}  \\\\\n",
       "\\midrule\n",
       "\\textbf{const} &      -0.4301  &        0.086     &    -5.004  &         0.000        &       -0.599    &       -0.262     \\\\\n",
       "\\textbf{x1}    &      -0.9658  &        0.122     &    -7.900  &         0.000        &       -1.205    &       -0.726     \\\\\n",
       "\\textbf{x2}    &      -0.6469  &        0.105     &    -6.181  &         0.000        &       -0.852    &       -0.442     \\\\\n",
       "\\textbf{x3}    &       0.1742  &        0.134     &     1.299  &         0.194        &       -0.089    &        0.437     \\\\\n",
       "\\textbf{x4}    &      -0.2716  &        0.099     &    -2.755  &         0.006        &       -0.465    &       -0.078     \\\\\n",
       "\\textbf{x5}    &       0.2114  &        0.093     &     2.273  &         0.023        &        0.029    &        0.394     \\\\\n",
       "\\bottomrule\n",
       "\\end{tabular}\n",
       "%\\caption{Logit Regression Results}\n",
       "\\end{center}"
      ],
      "text/plain": [
       "<class 'statsmodels.iolib.summary.Summary'>\n",
       "\"\"\"\n",
       "                           Logit Regression Results                           \n",
       "==============================================================================\n",
       "Dep. Variable:                      y   No. Observations:                  714\n",
       "Model:                          Logit   Df Residuals:                      708\n",
       "Method:                           MLE   Df Model:                            5\n",
       "Date:                Sun, 02 Feb 2025   Pseudo R-squ.:                  0.1548\n",
       "Time:                        14:58:14   Log-Likelihood:                -407.59\n",
       "converged:                       True   LL-Null:                       -482.26\n",
       "Covariance Type:            nonrobust   LLR p-value:                 1.848e-30\n",
       "==============================================================================\n",
       "                 coef    std err          z      P>|z|      [0.025      0.975]\n",
       "------------------------------------------------------------------------------\n",
       "const         -0.4301      0.086     -5.004      0.000      -0.599      -0.262\n",
       "x1            -0.9658      0.122     -7.900      0.000      -1.205      -0.726\n",
       "x2            -0.6469      0.105     -6.181      0.000      -0.852      -0.442\n",
       "x3             0.1742      0.134      1.299      0.194      -0.089       0.437\n",
       "x4            -0.2716      0.099     -2.755      0.006      -0.465      -0.078\n",
       "x5             0.2114      0.093      2.273      0.023       0.029       0.394\n",
       "==============================================================================\n",
       "\"\"\""
      ]
     },
     "execution_count": 11,
     "metadata": {},
     "output_type": "execute_result"
    }
   ],
   "source": [
    "result.summary()"
   ]
  },
  {
   "cell_type": "markdown",
   "metadata": {},
   "source": [
    "# My Implementation"
   ]
  },
  {
   "cell_type": "code",
   "execution_count": 14,
   "metadata": {},
   "outputs": [],
   "source": [
    "# first we define a function to turn our weights and bias into probabilities using the sigmoid function\n",
    "def sigmoid(X: np.array, weights: np.array, bias: int):\n",
    "    probabilities = 1/(1 + np.exp(-(np.dot(X, weights.T) + bias)))\n",
    "    return probabilities"
   ]
  },
  {
   "cell_type": "code",
   "execution_count": 15,
   "metadata": {},
   "outputs": [],
   "source": [
    "# defining a predictions function based on our generated probabilities\n",
    "def predictions(X: np.array, weights: np.array, bias: int):\n",
    "    probabilities = sigmoid(X, weights, bias)\n",
    "    predictions = np.round(probabilities)\n",
    "    return predictions"
   ]
  },
  {
   "cell_type": "code",
   "execution_count": 16,
   "metadata": {},
   "outputs": [],
   "source": [
    "# define a log loss function here just to track how our log regression is doing over time\n",
    "def log_loss(y, y_prob):\n",
    "    m = y.shape[0]\n",
    "    return (1/m)*np.sum(-y*np.log(y_prob) - (1-y)*np.log(1-y_prob))"
   ]
  },
  {
   "cell_type": "code",
   "execution_count": null,
   "metadata": {},
   "outputs": [],
   "source": [
    "# our choice of algorithm for minimizing the loss function is stochastic gradient descent - as an exercise in the future, can implement multiple algorithms\n",
    "def stochastic_gradient_descent(y, X, weights, bias, learning_rate):\n",
    "    # iterate over all the possible data points:\n",
    "    m = X.shape[0]\n",
    "    for i in range(m):\n",
    "        # we select a random X, y tuple from the input data\n",
    "        random_index = np.random.randint(m)\n",
    "        X_i = X[random_index]\n",
    "        y_i = y[random_index]\n",
    "\n",
    "        # get the initial probabilities based on our weights\n",
    "        y_prob = sigmoid(X_i, weights, bias)\n",
    "\n",
    "        # get the gradients of the weights and the bias - based on partial derivatives of log loss (calculated outside this notebook) - these will be the numbers, by which we need to update the weights and bias\n",
    "        d_weights  = -(y_i - y_prob)*X_i\n",
    "        d_bias = -(y_i - y_prob)\n",
    "\n",
    "        weights = weights - learning_rate*d_weights\n",
    "        bias = bias - learning_rate*d_bias\n",
    "\n",
    "    return weights, bias\n"
   ]
  },
  {
   "cell_type": "code",
   "execution_count": 18,
   "metadata": {},
   "outputs": [],
   "source": [
    "def logistic_regression(X, y, learning_rate = 0.001, n_iterations = 100):\n",
    "    # first we initialize the weights and bias of our logistic regression model - here I will do 0, but I can also test out random initialization later\n",
    "    weights = np.zeros(X.shape[1])\n",
    "    bias = 0\n",
    "\n",
    "    loss_tracker = []\n",
    "\n",
    "    # now we loop over the defined number of iterations\n",
    "    for iteration in range(n_iterations):\n",
    "        # update the weights and bias using stochastic gradient descent every iteration:\n",
    "        weights, bias = stochastic_gradient_descent(y, X, weights, bias, learning_rate)\n",
    "\n",
    "        # calculate the probabilities after each SGD\n",
    "        y_prob = sigmoid(X, weights, bias)\n",
    "        loss_tracker.append(log_loss(y, y_prob))\n",
    "    \n",
    "    return weights, bias, loss_tracker\n"
   ]
  },
  {
   "cell_type": "code",
   "execution_count": 19,
   "metadata": {},
   "outputs": [],
   "source": [
    "weights, bias, loss_tracker = logistic_regression(X_std, y)"
   ]
  },
  {
   "cell_type": "code",
   "execution_count": 20,
   "metadata": {},
   "outputs": [
    {
     "data": {
      "text/plain": [
       "<Axes: >"
      ]
     },
     "execution_count": 20,
     "metadata": {},
     "output_type": "execute_result"
    },
    {
     "data": {
      "image/png": "[encoded data removed]",
      "text/plain": [
       "<Figure size 640x480 with 1 Axes>"
      ]
     },
     "metadata": {},
     "output_type": "display_data"
    }
   ],
   "source": [
    "# here we plot our log loss over the iterations/epochs to visualize the convergence\n",
    "sns.lineplot(loss_tracker)"
   ]
  },
  {
   "cell_type": "code",
   "execution_count": 34,
   "metadata": {},
   "outputs": [
    {
     "data": {
      "text/plain": [
       "array([-0.45450695, -0.92872329, -0.63991956,  0.14326792, -0.28276259,\n",
       "        0.19869502])"
      ]
     },
     "execution_count": 34,
     "metadata": {},
     "output_type": "execute_result"
    }
   ],
   "source": [
    "my_results = np.append(np.array(bias), weights)\n",
    "my_results"
   ]
  },
  {
   "cell_type": "code",
   "execution_count": 32,
   "metadata": {},
   "outputs": [
    {
     "data": {
      "text/plain": [
       "array([-0.43006148, -0.96583151, -0.64693263,  0.17421386, -0.27155985,\n",
       "        0.21136566])"
      ]
     },
     "execution_count": 32,
     "metadata": {},
     "output_type": "execute_result"
    }
   ],
   "source": [
    "sm_results = result.params\n",
    "sm_results"
   ]
  },
  {
   "cell_type": "markdown",
   "metadata": {},
   "source": [
    "Comparing the two models, the coefficients are largely comparable. This was overall a success! Some things to note:\n",
    "- the coefficients change every time the code is run since the stochastic gradient descent chooses a random data point each time - the calculations always change\n",
    "- I had to decrease the learning rate from the default 0.01, because the log loss results were quite choppy otherwise - with a higher learning rate, there is a smoother curve"
   ]
  }
 ],
 "metadata": {
  "kernelspec": {
   "display_name": "ml_learning",
   "language": "python",
   "name": "python3"
  },
  "language_info": {
   "codemirror_mode": {
    "name": "ipython",
    "version": 3
   },
   "file_extension": ".py",
   "mimetype": "text/x-python",
   "name": "python",
   "nbconvert_exporter": "python",
   "pygments_lexer": "ipython3",
   "version": "3.11.10"
  }
 },
 "nbformat": 4,
 "nbformat_minor": 2
}
